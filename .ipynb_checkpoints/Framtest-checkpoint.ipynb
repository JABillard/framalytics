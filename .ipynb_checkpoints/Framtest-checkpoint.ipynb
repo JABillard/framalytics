{
 "cells": [
  {
   "cell_type": "code",
   "execution_count": 2,
   "id": "cf0b57f9-c7c9-4346-a2d2-fbecc5cf6a6b",
   "metadata": {},
   "outputs": [],
   "source": [
    "import pandas as pd\n",
    "import numpy as np\n",
    "import os\n",
    "import networkx as nx\n",
    "import warnings\n",
    "import matplotlib.pyplot as plt\n",
    "import sys\n",
    "sys.path.append('../framalytics/framalytics')"
   ]
  },
  {
   "cell_type": "code",
   "execution_count": null,
   "id": "b97a1b6d-d71f-4e66-a5b8-5041cb630081",
   "metadata": {},
   "outputs": [],
   "source": []
  }
 ],
 "metadata": {
  "kernelspec": {
   "display_name": "Python 3 (ipykernel)",
   "language": "python",
   "name": "python3"
  },
  "language_info": {
   "codemirror_mode": {
    "name": "ipython",
    "version": 3
   },
   "file_extension": ".py",
   "mimetype": "text/x-python",
   "name": "python",
   "nbconvert_exporter": "python",
   "pygments_lexer": "ipython3",
   "version": "3.11.5"
  }
 },
 "nbformat": 4,
 "nbformat_minor": 5
}
